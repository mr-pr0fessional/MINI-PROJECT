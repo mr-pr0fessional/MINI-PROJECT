{
  "nbformat": 4,
  "nbformat_minor": 0,
  "metadata": {
    "colab": {
      "provenance": [],
      "include_colab_link": true
    },
    "kernelspec": {
      "name": "python3",
      "display_name": "Python 3"
    },
    "language_info": {
      "name": "python"
    }
  },
  "cells": [
    {
      "cell_type": "markdown",
      "metadata": {
        "id": "view-in-github",
        "colab_type": "text"
      },
      "source": [
        "<a href=\"https://colab.research.google.com/github/mr-pr0fessional/MINI-PROJECT/blob/main/MLR.ipynb\" target=\"_parent\"><img src=\"https://colab.research.google.com/assets/colab-badge.svg\" alt=\"Open In Colab\"/></a>"
      ]
    },
    {
      "cell_type": "code",
      "execution_count": 1,
      "metadata": {
        "id": "jmp_SBaZ7Cr6"
      },
      "outputs": [],
      "source": [
        "# Importing required libraries\n",
        "import pandas as pd\n",
        "from sklearn.model_selection import train_test_split\n",
        "from sklearn.linear_model import LinearRegression\n",
        "from sklearn.metrics import mean_squared_error, r2_score"
      ]
    },
    {
      "cell_type": "markdown",
      "source": [],
      "metadata": {
        "id": "PsUT_Ob6p7PU"
      }
    },
    {
      "cell_type": "code",
      "source": [
        "\n",
        "\n",
        "# Sample dataset creation (or load your CSV file here)\n",
        "data = {\n",
        "    'bedrooms': [2, 3, 4, 3, 5, 4, 2],\n",
        "    'bathrooms': [1, 2, 2, 2, 3, 2, 1],\n",
        "    'sqft': [1000, 1500, 2000, 1600, 2500, 2200, 1200],\n",
        "    'age': [10, 5, 2, 8, 1, 3, 12],\n",
        "    'price': [200000, 300000, 400000, 320000, 500000, 450000, 220000]\n",
        "}\n",
        "\n",
        "# Converting to DataFrame\n",
        "df = pd.DataFrame(data)\n",
        "\n",
        "# Features and target variable\n",
        "X = df[['bedrooms', 'bathrooms', 'sqft', 'age']]\n",
        "y = df['price']\n",
        "\n",
        "print(\"X data:\\n\",X)\n",
        "print(\"\\ny data:\\n\",y)\n"
      ],
      "metadata": {
        "colab": {
          "base_uri": "https://localhost:8080/"
        },
        "id": "1OsVunpA7Mgx",
        "outputId": "47578b20-e109-4e05-b6cd-7569ec137923"
      },
      "execution_count": 2,
      "outputs": [
        {
          "output_type": "stream",
          "name": "stdout",
          "text": [
            "X data:\n",
            "    bedrooms  bathrooms  sqft  age\n",
            "0         2          1  1000   10\n",
            "1         3          2  1500    5\n",
            "2         4          2  2000    2\n",
            "3         3          2  1600    8\n",
            "4         5          3  2500    1\n",
            "5         4          2  2200    3\n",
            "6         2          1  1200   12\n",
            "\n",
            "y data:\n",
            " 0    200000\n",
            "1    300000\n",
            "2    400000\n",
            "3    320000\n",
            "4    500000\n",
            "5    450000\n",
            "6    220000\n",
            "Name: price, dtype: int64\n"
          ]
        }
      ]
    },
    {
      "cell_type": "markdown",
      "source": [],
      "metadata": {
        "id": "gD_e1UauN6O3"
      }
    },
    {
      "cell_type": "code",
      "source": [],
      "metadata": {
        "id": "yOl7euNjN6lM"
      },
      "execution_count": 2,
      "outputs": []
    },
    {
      "cell_type": "code",
      "source": [
        "# Splitting the dataset into training and testing\n",
        "X_train, X_test, y_train, y_test = train_test_split(X, y, test_size=0.3, random_state=42)\n",
        "\n",
        "print(\"X_train:\\n\", X_train)\n",
        "print(\"\\nX_test:\\n\", X_test)\n",
        "print(\"\\ny_train:\\n\", y_train)\n",
        "print(\"\\ny_test:\\n\", y_test)"
      ],
      "metadata": {
        "colab": {
          "base_uri": "https://localhost:8080/"
        },
        "id": "6QViDT-z7Wbh",
        "outputId": "062a4c59-4b96-43bc-d183-5885538dac8f"
      },
      "execution_count": 3,
      "outputs": [
        {
          "output_type": "stream",
          "name": "stdout",
          "text": [
            "X_train:\n",
            "    bedrooms  bathrooms  sqft  age\n",
            "2         4          2  2000    2\n",
            "4         5          3  2500    1\n",
            "3         3          2  1600    8\n",
            "6         2          1  1200   12\n",
            "\n",
            "X_test:\n",
            "    bedrooms  bathrooms  sqft  age\n",
            "0         2          1  1000   10\n",
            "1         3          2  1500    5\n",
            "5         4          2  2200    3\n",
            "\n",
            "y_train:\n",
            " 2    400000\n",
            "4    500000\n",
            "3    320000\n",
            "6    220000\n",
            "Name: price, dtype: int64\n",
            "\n",
            "y_test:\n",
            " 0    200000\n",
            "1    300000\n",
            "5    450000\n",
            "Name: price, dtype: int64\n"
          ]
        }
      ]
    },
    {
      "cell_type": "code",
      "source": [
        "\n",
        "# Creating and training the model\n",
        "model = LinearRegression()\n",
        "model.fit(X_train, y_train)\n",
        "\n",
        "# Making predictions\n",
        "y_pred = model.predict(X_test)\n",
        "\n",
        "# Creating a DataFrame to compare X_test and y_pred\n",
        "results_df = X_test.copy()  # Copy X_test\n",
        "results_df['Predicted Price'] = y_pred  # Add predictions as a new column\n",
        "\n",
        "# Display the results\n",
        "print(\"\\nX_test with Predicted Prices:\\n\", results_df)\n",
        "\n",
        "\n"
      ],
      "metadata": {
        "colab": {
          "base_uri": "https://localhost:8080/"
        },
        "id": "n15gfqtP78PX",
        "outputId": "48b87bfc-f01e-4720-cf60-2e093fe3ec0c"
      },
      "execution_count": 4,
      "outputs": [
        {
          "output_type": "stream",
          "name": "stdout",
          "text": [
            "\n",
            "X_test with Predicted Prices:\n",
            "    bedrooms  bathrooms  sqft  age  Predicted Price\n",
            "0         2          1  1000   10    202978.769967\n",
            "1         3          2  1500    5    320000.000000\n",
            "5         4          2  2200    3    421276.537541\n"
          ]
        }
      ]
    },
    {
      "cell_type": "code",
      "source": [
        "# Evaluating the model\n",
        "print(\"Mean Squared Error:\", mean_squared_error(y_test, y_pred))\n",
        "print(\"R² Score:\", r2_score(y_test, y_pred))\n",
        "\n"
      ],
      "metadata": {
        "colab": {
          "base_uri": "https://localhost:8080/"
        },
        "id": "j7Ych34f819E",
        "outputId": "841dfeab-76b3-4f1f-b38c-48d5c0a34abd"
      },
      "execution_count": 5,
      "outputs": [
        {
          "output_type": "stream",
          "name": "stdout",
          "text": [
            "Mean Squared Error: 411303455.37591195\n",
            "R² Score: 0.9610344094907031\n"
          ]
        }
      ]
    },
    {
      "cell_type": "code",
      "source": [
        "# Displaying the coefficients\n",
        "print(\"\\nModel Coefficients:\")\n",
        "for feature, coef in zip(X.columns, model.coef_):\n",
        "    print(f\"{feature}: {coef:.2f}\")\n",
        "print(\"Intercept:\", model.intercept_)"
      ],
      "metadata": {
        "colab": {
          "base_uri": "https://localhost:8080/"
        },
        "id": "BzEcprim-g9e",
        "outputId": "ed9532fe-2a83-4edc-a39b-635f20d848e5"
      },
      "execution_count": 6,
      "outputs": [
        {
          "output_type": "stream",
          "name": "stdout",
          "text": [
            "\n",
            "Model Coefficients:\n",
            "bedrooms: 3404.46\n",
            "bathrooms: 28510.62\n",
            "sqft: 127.66\n",
            "age: -4255.31\n",
            "Intercept: 82553.07508280524\n"
          ]
        }
      ]
    }
  ]
}